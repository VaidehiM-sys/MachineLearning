{
 "cells": [
  {
   "cell_type": "markdown",
   "metadata": {},
   "source": [
    "# Part 2: Character-Level RNN-Based Text Classification Model\n",
    "\n",
    "Implemnation of character-level RNN models that are used to classify the nationality of names."
   ]
  },
  {
   "cell_type": "markdown",
   "metadata": {},
   "source": [
    "## Import packages"
   ]
  },
  {
   "cell_type": "code",
   "execution_count": 1,
   "metadata": {},
   "outputs": [
    {
     "name": "stdout",
     "output_type": "stream",
     "text": [
      "num of classes: 18\n",
      "num of letters: 57\n"
     ]
    }
   ],
   "source": [
    "import torch\n",
    "import torch.nn as nn\n",
    "import random\n",
    "from rnn2_utils import *\n",
    "\n",
    "import matplotlib.pyplot as plt\n",
    "import matplotlib.ticker as ticker\n",
    "\n",
    "print('num of classes:', n_categories)\n",
    "print('num of letters:', n_letters)"
   ]
  },
  {
   "cell_type": "markdown",
   "metadata": {},
   "source": [
    "---\n",
    "## Task 7.3 Defining the network\n",
    "\n",
    "Defined a single directional RNN model.\n",
    "\n",
    "- An RNN cell `rnn_cell`, a fully-connected layer `self.fc`, and a softmax layer `self.softmax` are defined in `__init__()`\n",
    "- The computational graph is defined in `forward()`. The hidden state of the RNN cell is stored in the tensor `h`, which is of size `[batch_size, hidden_size]`. `forward()` takes as input the tensor `x` in of size `[seq_length, batch_size, input_size]`, whose first dimension is the time steps. Therefore, we use a `for` loop to iterate over the time steps, and for each time step, we feed the input at the current step, and the previous hidden state to the RNN cell. The cell then returns a new hidden state, which overrides `h`."
   ]
  },
  {
   "cell_type": "code",
   "execution_count": 3,
   "metadata": {},
   "outputs": [],
   "source": [
    "class RNN(nn.Module):\n",
    "    def __init__(self, input_size, hidden_size, output_size):\n",
    "        super(RNN, self).__init__()\n",
    "        self.hidden_size = hidden_size\n",
    "        \n",
    "        self.rnn_cell = nn.RNNCell(input_size, hidden_size)\n",
    "        self.fc = nn.Linear(hidden_size, output_size)\n",
    "        self.softmax = nn.LogSoftmax(dim=1)\n",
    "    \n",
    "    def forward(self, x):\n",
    "        \"\"\"\n",
    "        x: size [seq_length, 1, input_size]\n",
    "        \"\"\"\n",
    "        h = torch.zeros(x.size(1), self.hidden_size)\n",
    "        \n",
    "        for i in range(x.size(0)):\n",
    "            h = self.rnn_cell(x[i],h)\n",
    "            \n",
    "        out = self.softmax(self.fc(h))\n",
    "        \n",
    "        return out"
   ]
  },
  {
   "cell_type": "code",
   "execution_count": 4,
   "metadata": {},
   "outputs": [
    {
     "name": "stdout",
     "output_type": "stream",
     "text": [
      "torch.Size([3, 18])\n",
      "tensor([-3.3146, -3.0216, -2.9363, -3.1215, -2.7141, -2.7103, -2.9526, -3.0657,\n",
      "        -2.9442, -3.0038, -2.6818, -2.7880, -2.9849, -3.1164, -2.5659, -2.5336,\n",
      "        -2.9586, -2.9764])\n"
     ]
    }
   ],
   "source": [
    "# Evaluate Task 7.3\n",
    "torch.manual_seed(0)\n",
    "rnn = RNN(10, 20, 18)\n",
    "input_data = torch.randn(6, 3, 10)\n",
    "\n",
    "with torch.no_grad():\n",
    "    out = rnn(input_data)\n",
    "    \n",
    "print(out.size())\n",
    "print(out[0])"
   ]
  },
  {
   "cell_type": "markdown",
   "metadata": {},
   "source": [
    "## Task 7.4 Training the model\n",
    "\n",
    "\n",
    "Train the model with stachastic gradient descent. One data example is used per iteration, i.e., the mini-batch size is 1.\n",
    "\n",
    "- Each training data example contains a name (`x`) and a label indicating its nationality (`y`). \n",
    "- The model uses the tensor version of `x` and `y`, i.e., `x_tensor` and `y_tensor`. Here `x_tensor` is of size `[seq_length, 1, input_size]`, in which `input_size` is the total number of letters.\n",
    "- `x_tensor[0, 0, :]` as the one-hot encoding for the first letter in the string `x`, and so forth for `x_tensor[1, 0, :]` etc.\n",
    "- The function will output the predicing result every 5000 iterations. "
   ]
  },
  {
   "cell_type": "code",
   "execution_count": 5,
   "metadata": {},
   "outputs": [],
   "source": [
    "def train(model, n_iters = 100000, print_every = 5000, plot_every = 1000, learning_rate = 0.005):\n",
    "    # Turn on the training model\n",
    "    model.train()\n",
    "    \n",
    "    # Loss and optimizer\n",
    "    criterion = nn.NLLLoss()\n",
    "    optimizer = torch.optim.SGD(model.parameters(), lr = learning_rate)\n",
    "    \n",
    "    running_loss = 0\n",
    "    all_losses = []\n",
    "    \n",
    "    # Train loop\n",
    "    start = time.time()\n",
    "    for i in range(n_iters):\n",
    "        y, x, y_tensor, x_tensor = randomTrainingExample()\n",
    "        \n",
    "        # zero grad\n",
    "        optimizer.zero_grad()\n",
    "        \n",
    "        # Forward pass\n",
    "        output = model(x_tensor) \n",
    "        loss = criterion(output,y_tensor)\n",
    "        \n",
    "        # Backprop and update\n",
    "        loss.backward()\n",
    "        optimizer.step()\n",
    "        \n",
    "        # Record loss\n",
    "        running_loss += loss.item()\n",
    "        \n",
    "        # Print iter, loss, name, and guess\n",
    "        if i % print_every == 0 and i > 0:\n",
    "            guess, guess_i = categoryFromOutput(output)\n",
    "            correct = '✓' if guess == y else '✗ (%s)' % y\n",
    "            print('%d %d%% (%s) %.4f %s / %s %s' % (i, i / n_iters * 100, timeSince(start), loss, x, guess, correct))\n",
    "        \n",
    "        # Append loss\n",
    "        if i % plot_every == 0 and i > 0:\n",
    "            all_losses.append(running_loss / plot_every)\n",
    "            running_loss = 0\n",
    "    \n",
    "    # Plot\n",
    "    plt.figure()\n",
    "    plt.plot(all_losses)"
   ]
  },
  {
   "cell_type": "code",
   "execution_count": 6,
   "metadata": {},
   "outputs": [
    {
     "name": "stderr",
     "output_type": "stream",
     "text": [
      "C:\\Users\\munge\\anaconda3\\lib\\site-packages\\torch\\autograd\\__init__.py:132: UserWarning: CUDA initialization: Found no NVIDIA driver on your system. Please check that you have an NVIDIA GPU and installed a driver from http://www.nvidia.com/Download/index.aspx (Triggered internally at  ..\\c10\\cuda\\CUDAFunctions.cpp:100.)\n",
      "  allow_unreachable=True)  # allow_unreachable flag\n"
     ]
    },
    {
     "name": "stdout",
     "output_type": "stream",
     "text": [
      "5000 5% (0m 10s) 2.8908 Jacques / Greek ✗ (French)\n",
      "10000 10% (0m 19s) 1.7356 Mcmahon / Irish ✓\n",
      "15000 15% (0m 29s) 1.7122 Ferreira / Spanish ✗ (Portuguese)\n",
      "20000 20% (0m 38s) 2.6051 Finn / Chinese ✗ (Irish)\n",
      "25000 25% (0m 48s) 2.8467 Arian / Scottish ✗ (Arabic)\n",
      "30000 30% (0m 57s) 0.0768 Takahama / Japanese ✓\n",
      "35000 35% (1m 7s) 0.0167 Antimisiaris / Greek ✓\n",
      "40000 40% (1m 17s) 1.3374 Chlebek / Czech ✗ (Polish)\n",
      "45000 45% (1m 27s) 1.8558 Robles / Dutch ✗ (Spanish)\n",
      "50000 50% (1m 37s) 0.4252 OuYang / Chinese ✓\n",
      "55000 55% (1m 47s) 0.1350 Issa / Arabic ✓\n",
      "60000 60% (1m 57s) 1.5986 Ton / Korean ✗ (Vietnamese)\n",
      "65000 65% (2m 7s) 0.4888 Kaibara / Japanese ✓\n",
      "70000 70% (2m 17s) 2.1009 Cormac / Czech ✗ (Irish)\n",
      "75000 75% (2m 28s) 0.5329 Waldvogel / German ✓\n",
      "80000 80% (2m 38s) 0.1877 Azarola / Spanish ✓\n",
      "85000 85% (2m 50s) 0.6457 Cathan / Irish ✓\n",
      "90000 90% (3m 0s) 1.6865 Mikhailyants / Dutch ✗ (Russian)\n",
      "95000 95% (3m 10s) 1.2736 Lauwers / English ✗ (Dutch)\n"
     ]
    },
    {
     "data": {
      "image/png": "[encoded data removed]",
      "text/plain": [
       "<Figure size 432x288 with 1 Axes>"
      ]
     },
     "metadata": {
      "needs_background": "light"
     },
     "output_type": "display_data"
    }
   ],
   "source": [
    "# Evaluate Task 7.4\n",
    "# Be patient with the training speed :)\n",
    "torch.manual_seed(0)\n",
    "random.seed(0)\n",
    "\n",
    "n_hidden = 128\n",
    "rnn = RNN(n_letters, n_hidden, n_categories)\n",
    "\n",
    "train(rnn)"
   ]
  },
  {
   "cell_type": "markdown",
   "metadata": {},
   "source": [
    "## Task 7.5 Bi-directional RNN model\n",
    "\n",
    "Implementation of a bi-directional RNN model by modifying the architecture of the `RNN` class.\n",
    "\n",
    "- Two distinct RNN cells are defined in `__init__()`. The input size for the fully-connected layer is doubled, because it needs take input the concatenated hidden states from the two cells.\n",
    "- In `forward()`, two hidden states, `h1` and `h2`, are computed separately. `h1` is exactly the same as the previous `h` in one-directional `RNN`. `h2` is computed by reversing the order of the `for` loop: iterating from the last time step to the first time step.\n",
    "- Concatenate `h1` and `h2` using `torch.cat()`."
   ]
  },
  {
   "cell_type": "code",
   "execution_count": 7,
   "metadata": {},
   "outputs": [],
   "source": [
    "class BiRNN(nn.Module):\n",
    "    def __init__(self, input_size, hidden_size, output_size):\n",
    "        super(BiRNN, self).__init__()\n",
    "        self.hidden_size = hidden_size\n",
    "        \n",
    "        self.rnn_cell1 = nn.RNNCell(input_size, hidden_size)\n",
    "        self.rnn_cell2 = nn.RNNCell(input_size, hidden_size)\n",
    "        \n",
    "        self.fc = nn.Linear(2 * hidden_size, output_size)\n",
    "        self.softmax = nn.LogSoftmax(dim=1)\n",
    "    \n",
    "    def forward(self, x):\n",
    "        \"\"\"\n",
    "        x: size [seq_length, 1, input_size]\n",
    "        \"\"\"\n",
    "        h1 = torch.zeros(x.size(1), self.hidden_size)\n",
    "        for i in range(x.size(0)):\n",
    "            h1 = self.rnn_cell1(x[i], h1)\n",
    "        \n",
    "        h2 = torch.zeros(x.size(1), self.hidden_size)\n",
    "        for i in reversed(range(x.size(0))): # Hint: reverse the order of the for loop\n",
    "            h2 = self.rnn_cell2(x[i], h2)\n",
    "        \n",
    "        h = torch.cat((h1, h2),1)\n",
    "        out = self.softmax(self.fc(h))\n",
    "        \n",
    "        return out"
   ]
  },
  {
   "cell_type": "code",
   "execution_count": 8,
   "metadata": {},
   "outputs": [
    {
     "name": "stdout",
     "output_type": "stream",
     "text": [
      "5000 5% (0m 18s) 3.1154 Jacques / Greek ✗ (French)\n",
      "10000 10% (0m 38s) 1.5236 Mcmahon / Scottish ✗ (Irish)\n",
      "15000 15% (0m 57s) 1.4322 Ferreira / Spanish ✗ (Portuguese)\n",
      "20000 20% (1m 15s) 2.2772 Finn / Chinese ✗ (Irish)\n",
      "25000 25% (1m 32s) 1.1499 Arian / Arabic ✓\n",
      "30000 30% (1m 50s) 0.0653 Takahama / Japanese ✓\n",
      "35000 35% (2m 7s) 0.0596 Antimisiaris / Greek ✓\n",
      "40000 40% (2m 25s) 1.3657 Chlebek / Czech ✗ (Polish)\n",
      "45000 45% (2m 42s) 1.9852 Robles / Dutch ✗ (Spanish)\n",
      "50000 50% (2m 59s) 0.0468 OuYang / Chinese ✓\n",
      "55000 55% (3m 16s) 0.0540 Issa / Arabic ✓\n",
      "60000 60% (3m 34s) 1.5942 Ton / Korean ✗ (Vietnamese)\n",
      "65000 65% (3m 51s) 0.3659 Kaibara / Japanese ✓\n",
      "70000 70% (4m 9s) 3.7787 Cormac / French ✗ (Irish)\n",
      "75000 75% (4m 27s) 1.5433 Waldvogel / Czech ✗ (German)\n",
      "80000 80% (4m 45s) 0.1893 Azarola / Spanish ✓\n",
      "85000 85% (5m 2s) 0.4187 Cathan / Irish ✓\n",
      "90000 90% (5m 20s) 1.6979 Mikhailyants / Greek ✗ (Russian)\n",
      "95000 95% (5m 38s) 1.6534 Lauwers / English ✗ (Dutch)\n"
     ]
    },
    {
     "data": {
      "image/png": "[encoded data removed]",
      "text/plain": [
       "<Figure size 432x288 with 1 Axes>"
      ]
     },
     "metadata": {
      "needs_background": "light"
     },
     "output_type": "display_data"
    }
   ],
   "source": [
    "# Evaluate Task 7.5\n",
    "# Be even more patient, as the training time is almost doubled :P\n",
    "torch.manual_seed(0)\n",
    "random.seed(0)\n",
    "\n",
    "n_hidden = 128\n",
    "birnn = BiRNN(n_letters, n_hidden, n_categories)\n",
    "\n",
    "train(birnn)"
   ]
  },
  {
   "cell_type": "code",
   "execution_count": 9,
   "metadata": {},
   "outputs": [],
   "source": [
    "def evaluate(model, x_tensor):\n",
    "    model.eval()\n",
    "    with torch.no_grad():\n",
    "        output = model(x_tensor)\n",
    "    return output\n",
    "\n",
    "\n",
    "def predict(model, input_line, n_predictions=3):\n",
    "    print('\\n> %s' % input_line)\n",
    "    with torch.no_grad():\n",
    "        output = evaluate(model, lineToTensor(input_line))\n",
    "\n",
    "        # Get top N categories\n",
    "        topv, topi = output.topk(n_predictions, 1, True)\n",
    "        predictions = []\n",
    "\n",
    "        for i in range(n_predictions):\n",
    "            value = topv[0][i].item()\n",
    "            category_index = topi[0][i].item()\n",
    "            print('(%.2f) %s' % (value, all_categories[category_index]))\n",
    "            predictions.append([value, all_categories[category_index]])"
   ]
  },
  {
   "cell_type": "code",
   "execution_count": 10,
   "metadata": {},
   "outputs": [
    {
     "name": "stdout",
     "output_type": "stream",
     "text": [
      "\n",
      "> Jose\n",
      "(-1.19) French\n",
      "(-1.45) English\n",
      "(-2.23) Scottish\n",
      "\n",
      "> Jose\n",
      "(-0.94) German\n",
      "(-1.70) English\n",
      "(-2.09) Korean\n",
      "\n",
      "> Robinhood\n",
      "(-1.17) English\n",
      "(-1.19) Scottish\n",
      "(-2.16) Dutch\n",
      "\n",
      "> Robinhood\n",
      "(-0.05) Scottish\n",
      "(-3.91) English\n",
      "(-4.79) Dutch\n",
      "\n",
      "> Zhang\n",
      "(-0.16) Chinese\n",
      "(-2.26) Korean\n",
      "(-3.21) Vietnamese\n",
      "\n",
      "> Zhang\n",
      "(-0.38) Chinese\n",
      "(-1.32) Korean\n",
      "(-3.51) Vietnamese\n",
      "\n",
      "> Park\n",
      "(-0.67) Dutch\n",
      "(-1.96) German\n",
      "(-1.97) Czech\n",
      "\n",
      "> Park\n",
      "(-0.26) Dutch\n",
      "(-2.86) Polish\n",
      "(-3.21) English\n"
     ]
    }
   ],
   "source": [
    "predict(birnn, 'Jose')\n",
    "predict(rnn, 'Jose')\n",
    "\n",
    "predict(birnn, 'Robinhood')\n",
    "predict(rnn, 'Robinhood')\n",
    "\n",
    "predict(birnn, 'Zhang')\n",
    "predict(rnn, 'Zhang')\n",
    "\n",
    "predict(birnn, 'Park')\n",
    "predict(rnn, 'Park')"
   ]
  }
 ],
 "metadata": {
  "kernelspec": {
   "display_name": "Python 3",
   "language": "python",
   "name": "python3"
  },
  "language_info": {
   "codemirror_mode": {
    "name": "ipython",
    "version": 3
   },
   "file_extension": ".py",
   "mimetype": "text/x-python",
   "name": "python",
   "nbconvert_exporter": "python",
   "pygments_lexer": "ipython3",
   "version": "3.7.6"
  }
 },
 "nbformat": 4,
 "nbformat_minor": 4
}
