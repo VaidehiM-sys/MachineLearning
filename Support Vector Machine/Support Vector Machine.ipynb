{
 "cells": [
  {
   "cell_type": "markdown",
   "metadata": {},
   "source": [
    "# Support vector machine (SVM) model\n",
    "\n",
    "\n",
    "A toy SVM model using a mini dataset\n",
    "\n",
    "## Import packages"
   ]
  },
  {
   "cell_type": "code",
   "execution_count": 1,
   "metadata": {},
   "outputs": [],
   "source": [
    "import quadprog\n",
    "import numpy as np\n",
    "\n",
    "def quadprog_solve_qp(P, q, G=None, h=None, A=None, b=None):\n",
    "    qp_G = .5 * (P + P.T)   # make sure P is symmetric\n",
    "    qp_a = -q\n",
    "    if A is not None:\n",
    "        qp_C = -np.vstack([A, G]).T\n",
    "        qp_b = -np.hstack([b, h])\n",
    "        meq = A.shape[0]\n",
    "    else:  # no equality constraint\n",
    "        qp_C = -G.T\n",
    "        qp_b = -h\n",
    "        meq = 0\n",
    "    return quadprog.solve_qp(qp_G, qp_a, qp_C, qp_b, meq)[0]\n",
    "\n",
    "# Toy data\n",
    "X = np.array([\n",
    "    [0, 0],\n",
    "    [2, 0],\n",
    "    [0, 2],\n",
    "    [3, 3],\n",
    "    [4, 4]\n",
    "])\n",
    "Y = np.array([-1, -1, -1, 1, 1])"
   ]
  },
  {
   "cell_type": "markdown",
   "metadata": {},
   "source": [
    "# Task\n",
    "Buid an SVM model on the toy dataset: \n",
    "\n",
    "\\begin{equation}\n",
    "    x^{(1)} = (0,0),\\ y^{(1)}=-1\\\\\n",
    "    x^{(2)} = (2,0),\\ y^{(2)}=-1\\\\\n",
    "    x^{(3)} = (0,2),\\ y^{(3)}=-1\\\\\n",
    "    x^{(4)} = (3,3),\\ y^{(4)}=1\\\\\n",
    "    x^{(5)} = (4,4),\\ y^{(5)}=1\\\\\n",
    "\\end{equation}\n",
    "\n",
    "Solve the quadratic programming (QP) problem as the following form:\n",
    "\n",
    "\\begin{equation}\n",
    "    \\min_{\\alpha}\\big( \\frac{1}{2}\\alpha^{T}Q\\alpha - (\\textbf{1})^{T}\\alpha \\big) \\\\\n",
    "    \\text{subject to: } y^{T}\\alpha=0,\\ \\alpha\\geq 0\n",
    "\\end{equation}\n",
    "\n",
    "The quadprog package by defaualt solves the QP as this form:\n",
    "\n",
    "\\begin{equation}\n",
    "    \\min_{x}\\big( \\frac{1}{2}x^{T}Px + q^{T}x \\big) \\\\\n",
    "    \\text{subject to: } Gx\\leq h,\\ Ax = b\n",
    "\\end{equation}\n",
    "\n",
    "Therefore, in order to use quadprog, we need to establish the responding relationships between variables: \n",
    "$P=Q$, $q = -(\\textbf{1})^{T}$, $G = -(\\textbf{1})^{T}$, $h=(\\textbf{0})^{T}$, $A=y^T$, $b=(\\textbf{0})^{T}$\n",
    "\n",
    "\n",
    "## Task 1: Compute matrix $Q$\n",
    "\n",
    "\n",
    "First need to use, $x^{(i)}$ and $y^{(i)}$ to compute matrix $Q$:\n",
    "\n",
    "\\begin{equation}\n",
    "    Q = \\begin{bmatrix}\n",
    "    y^{(1)}y^{(1)}x^{(1)T}x^{(1)} & y^{(1)}y^{(2)}x^{(1)T}x^{(2)} & \\dots & y^{(1)}y^{(5)}x^{(1)T}x^{(5)} \\\\\n",
    "    y^{(2)}y^{(1)}x^{(2)T}x^{(1)} & y^{(2)}y^{(2)}x^{(2)T}x^{(2)} & \\dots & y^{(2)}y^{(5)}x^{(2)T}x^{(5)} \\\\\n",
    "    \\vdots & \\vdots & \\ddots & \\vdots \\\\\n",
    "    y^{(5)}y^{(1)}x^{(5)T}x^{(1)} & y^{(5)}y^{(2)}x^{(5)T}x^{(2)} & \\dots & y^{(5)}y^{(5)}x^{(5)T}x^{(5)} \\\\\n",
    "    \\end{bmatrix}\n",
    "\\end{equation}\n"
   ]
  },
  {
   "cell_type": "code",
   "execution_count": 2,
   "metadata": {},
   "outputs": [
    {
     "name": "stdout",
     "output_type": "stream",
     "text": [
      "Q =  [[ 0.  0.  0.  0.  0.]\n",
      " [ 0.  4.  0. -6. -8.]\n",
      " [ 0.  0.  4. -6. -8.]\n",
      " [ 0. -6. -6. 18. 24.]\n",
      " [ 0. -8. -8. 24. 32.]]\n"
     ]
    }
   ],
   "source": [
    "Q = np.zeros((5, 5))\n",
    "\n",
    "for i in range(Q.shape[0]):\n",
    "    for j in range(Q.shape[1]):\n",
    "        # Use the ith and jth examples in X and Y to compute Q_ij\n",
    "        Q[i, j] = Y[i]*Y[j]*np.dot(X[i],X[j])\n",
    "\n",
    "print('Q = ', Q)"
   ]
  },
  {
   "cell_type": "markdown",
   "metadata": {},
   "source": [
    "## Task 2: Computer other variables\n",
    "\n",
    "Formulas: $P=Q$, $q = -(\\textbf{1})^{T}$, $G = -(\\textbf{1})^{T}$, $h=(\\textbf{0})^{T}$, $A=y^T$, $b=(\\textbf{0})^{T}$"
   ]
  },
  {
   "cell_type": "code",
   "execution_count": 3,
   "metadata": {},
   "outputs": [
    {
     "name": "stdout",
     "output_type": "stream",
     "text": [
      "q =  [-1. -1. -1. -1. -1.]\n",
      "G =  [[-1. -0. -0. -0. -0.]\n",
      " [-0. -1. -0. -0. -0.]\n",
      " [-0. -0. -1. -0. -0.]\n",
      " [-0. -0. -0. -1. -0.]\n",
      " [-0. -0. -0. -0. -1.]]\n",
      "h =  [0. 0. 0. 0. 0.]\n",
      "b =  [0.]\n"
     ]
    }
   ],
   "source": [
    "P = Q + np.eye(5)*1e-5 # To solve the non-positive finite issue\n",
    "q = -(np.ones(5)).T\n",
    "G = -(np.eye(5)).T\n",
    "h = (np.zeros(5)).T\n",
    "\n",
    "A = Y.reshape((1,5))\n",
    "\n",
    "b = (np.zeros(1)).T\n",
    "\n",
    "print('q = ', q)\n",
    "print('G = ', G)\n",
    "print('h = ', h)\n",
    "print('b = ', b)"
   ]
  },
  {
   "cell_type": "markdown",
   "metadata": {},
   "source": [
    "## Task 3: Call quadprog"
   ]
  },
  {
   "cell_type": "code",
   "execution_count": 4,
   "metadata": {},
   "outputs": [
    {
     "name": "stdout",
     "output_type": "stream",
     "text": [
      "solution =  [0.         0.12499977 0.12499977 0.24999953 0.        ]\n",
      "The support vectors are:  [[2 0]\n",
      " [0 2]\n",
      " [3 3]]\n"
     ]
    }
   ],
   "source": [
    "solution = quadprog_solve_qp(P, q, G, h, A, b)\n",
    "\n",
    "print('solution = ', solution)\n",
    "print('The support vectors are: ', X[solution > 0, ])"
   ]
  },
  {
   "cell_type": "markdown",
   "metadata": {},
   "source": [
    "## Task 4: Solve the decision boundary\n",
    "\n",
    "Using the support vectors to solve the $w$ and $b$ in the decision boundary $w^Tx+b=0$. Using the property that a support vector $x^{(k)}$ must satistify $y^{(k)}(w^Tx^{(k)}+b) = 1$."
   ]
  },
  {
   "cell_type": "markdown",
   "metadata": {},
   "source": [
    "#### Step 1: Filtered alpha values greater than zero for support vectors from solution\n",
    "#### Step 2: Took x1 and x2 as first and second column of X respectively\n",
    "#### Step 3: Took Y values for support vectors\n",
    "#### Step 4: Using formula for w (summation of product for i values of aplha,y and x), calculated w1 and w2 \n",
    "#### Step 5: Calculated value of b by substituting value of w1, x1 and y1 for single instance"
   ]
  },
  {
   "cell_type": "code",
   "execution_count": 5,
   "metadata": {},
   "outputs": [
    {
     "name": "stdout",
     "output_type": "stream",
     "text": [
      "w1 =  0.5\n",
      "w2 =  0.5\n",
      "b =  -2.0\n"
     ]
    }
   ],
   "source": [
    "alpha = solution[solution > 0]\n",
    "x = X[solution > 0, ]\n",
    "x1 = x[:,0]\n",
    "x2 = x[:,1]\n",
    "y = Y[1:4]\n",
    "\n",
    "w1 = round((alpha * y).dot(x1),2)\n",
    "w2 = round((alpha * y).dot(x2),2)\n",
    "b = round(((1/y[0]) - (w1.T * x1[0])),2)\n",
    "\n",
    "print('w1 = ', w1)\n",
    "print('w2 = ', w2)\n",
    "print('b = ', b)"
   ]
  }
 ],
 "metadata": {
  "kernelspec": {
   "display_name": "Python 3",
   "language": "python",
   "name": "python3"
  },
  "language_info": {
   "codemirror_mode": {
    "name": "ipython",
    "version": 3
   },
   "file_extension": ".py",
   "mimetype": "text/x-python",
   "name": "python",
   "nbconvert_exporter": "python",
   "pygments_lexer": "ipython3",
   "version": "3.7.6"
  }
 },
 "nbformat": 4,
 "nbformat_minor": 4
}
